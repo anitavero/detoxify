{
 "cells": [
  {
   "cell_type": "code",
   "execution_count": 76,
   "metadata": {},
   "outputs": [],
   "source": [
    "import torch\n",
    "import pandas as pd\n",
    "import numpy as np\n",
    "from sklearn.neural_network import MLPClassifier\n",
    "from sklearn.multioutput import MultiOutputClassifier\n",
    "from sklearn.ensemble import RandomForestClassifier\n",
    "from sklearn.datasets import make_classification\n",
    "from sklearn.model_selection import train_test_split\n",
    "import wandb\n",
    "from pprint import pprint\n",
    "\n",
    "from utils import load_embeddings\n",
    "from model_eval.eval_predictions import evaluate"
   ]
  },
  {
   "cell_type": "code",
   "execution_count": 3,
   "metadata": {},
   "outputs": [],
   "source": [
    "ids, embeddings, metadata = load_embeddings('/home/ubuntu/dev/detoxify/jigsaw-toxic-comment-classification-challenge/embeddings/embeddings_t5-large_test_This_text_is_about_{}.pkl')"
   ]
  },
  {
   "cell_type": "code",
   "execution_count": 4,
   "metadata": {},
   "outputs": [],
   "source": [
    "labels = pd.read_csv('/home/ubuntu/dev/detoxify/jigsaw-toxic-comment-classification-challenge/data/test_labels.csv', dtype={\"id\": \"string\"})\n",
    "classes = list(labels.columns)\n",
    "classes.remove(\"id\")\n",
    "y = labels[classes].to_numpy()"
   ]
  },
  {
   "cell_type": "code",
   "execution_count": 5,
   "metadata": {},
   "outputs": [],
   "source": [
    "mask = (y != -1).any(axis=1)\n",
    "y_m = y[mask, :]\n",
    "embeddings_m = embeddings[mask, :]\n",
    "y_m.shape, embeddings_m.shape\n",
    "\n",
    "X_train, X_test, y_train, y_test = train_test_split(embeddings_m, y_m, random_state=1)"
   ]
  },
  {
   "cell_type": "code",
   "execution_count": 74,
   "metadata": {},
   "outputs": [
    {
     "name": "stdout",
     "output_type": "stream",
     "text": [
      "{'method': 'random',\n",
      " 'metric': {'goal': 'maximize', 'name': 'mean_auc'},\n",
      " 'name': 'my-sweep',\n",
      " 'parameters': {'learning_rate': {'max': 0.1, 'min': 0.0001},\n",
      "                'model': {'values': ['randomForest', 'mlp']}}}\n",
      "Create sweep with ID: amfgv3bf\n",
      "Sweep URL: https://wandb.ai/anitavero/uncategorized/sweeps/amfgv3bf\n"
     ]
    }
   ],
   "source": [
    "sweep_config = {\n",
    "  \"name\" : \"my-sweep\",\n",
    "  \"method\" : \"random\",\n",
    "  \"metric\": {\n",
    "    \"name\": \"mean_auc\",\n",
    "    \"goal\": \"maximize\"\n",
    "  },\n",
    "  \"parameters\" : {\n",
    "    # \"epochs\" : {\n",
    "    #   \"values\" : [10, 20, 50]\n",
    "    # },\n",
    "    \"learning_rate\" :{\n",
    "      \"min\": 0.0001,\n",
    "      \"max\": 0.1\n",
    "    },\n",
    "    'model':{\n",
    "      'values':['randomForest','mlp']\n",
    "    }\n",
    "  }\n",
    "}\n",
    "\n",
    "pprint(sweep_config)\n",
    "\n",
    "sweep_id = wandb.sweep(sweep_config)"
   ]
  },
  {
   "cell_type": "code",
   "execution_count": 77,
   "metadata": {},
   "outputs": [],
   "source": [
    "def train():\n",
    "    wandb.init()    # required to have access to `wandb.config`\n",
    "    wb_config = wandb.config\n",
    "    if wandb.config.model == 'randomForest':\n",
    "        clf = RandomForestClassifier(n_jobs=7, verbose=True)\n",
    "    if wandb.config.model == 'mlp':\n",
    "        clf = MLPClassifier(max_iter=10, verbose=True, learning_rate_init=wb_config[\"learning_rate\"])\n",
    "    mo_clf = MultiOutputClassifier(estimator=clf)\n",
    "    loss = mo_clf.fit(X_train, y_train)  # your model training code here\n",
    "\n",
    "    def predict_prob(embs):\n",
    "        preds = mo_clf.predict_proba(embs)\n",
    "        return np.column_stack([p[:, 1] for p in preds])\n",
    "\n",
    "    y_probs = predict_prob(X_test)\n",
    "    mean_auc = evaluate(y_probs, y_test)['mean_auc']\n",
    "    print(\"MEAN AUC:\", mean_auc)\n",
    "    wandb.log({\"mean_auc\": mean_auc})"
   ]
  },
  {
   "cell_type": "code",
   "execution_count": 78,
   "metadata": {},
   "outputs": [
    {
     "name": "stderr",
     "output_type": "stream",
     "text": [
      "[Parallel(n_jobs=7)]: Using backend LokyBackend with 7 concurrent workers.\n",
      "[Parallel(n_jobs=7)]: Done  36 tasks      | elapsed:   17.7s\n",
      "[Parallel(n_jobs=7)]: Done 100 out of 100 | elapsed:   42.1s finished\n",
      "[Parallel(n_jobs=7)]: Using backend LokyBackend with 7 concurrent workers.\n",
      "[Parallel(n_jobs=7)]: Done  36 tasks      | elapsed:   11.5s\n",
      "[Parallel(n_jobs=7)]: Done 100 out of 100 | elapsed:   29.5s finished\n",
      "[Parallel(n_jobs=7)]: Using backend LokyBackend with 7 concurrent workers.\n",
      "[Parallel(n_jobs=7)]: Done  36 tasks      | elapsed:   14.9s\n",
      "[Parallel(n_jobs=7)]: Done 100 out of 100 | elapsed:   39.0s finished\n",
      "[Parallel(n_jobs=7)]: Using backend LokyBackend with 7 concurrent workers.\n",
      "[Parallel(n_jobs=7)]: Done  36 tasks      | elapsed:   13.6s\n",
      "[Parallel(n_jobs=7)]: Done 100 out of 100 | elapsed:   34.6s finished\n",
      "[Parallel(n_jobs=7)]: Using backend LokyBackend with 7 concurrent workers.\n",
      "[Parallel(n_jobs=7)]: Done  36 tasks      | elapsed:   14.9s\n",
      "[Parallel(n_jobs=7)]: Done 100 out of 100 | elapsed:   39.1s finished\n",
      "[Parallel(n_jobs=7)]: Using backend LokyBackend with 7 concurrent workers.\n",
      "[Parallel(n_jobs=7)]: Done  36 tasks      | elapsed:   14.6s\n",
      "[Parallel(n_jobs=7)]: Done 100 out of 100 | elapsed:   38.5s finished\n",
      "[Parallel(n_jobs=7)]: Using backend ThreadingBackend with 7 concurrent workers.\n",
      "[Parallel(n_jobs=7)]: Done  36 tasks      | elapsed:    0.0s\n",
      "[Parallel(n_jobs=7)]: Done 100 out of 100 | elapsed:    0.1s finished\n",
      "[Parallel(n_jobs=7)]: Using backend ThreadingBackend with 7 concurrent workers.\n",
      "[Parallel(n_jobs=7)]: Done  36 tasks      | elapsed:    0.0s\n",
      "[Parallel(n_jobs=7)]: Done 100 out of 100 | elapsed:    0.1s finished\n",
      "[Parallel(n_jobs=7)]: Using backend ThreadingBackend with 7 concurrent workers.\n",
      "[Parallel(n_jobs=7)]: Done  36 tasks      | elapsed:    0.0s\n",
      "[Parallel(n_jobs=7)]: Done 100 out of 100 | elapsed:    0.1s finished\n",
      "[Parallel(n_jobs=7)]: Using backend ThreadingBackend with 7 concurrent workers.\n",
      "[Parallel(n_jobs=7)]: Done  36 tasks      | elapsed:    0.0s\n",
      "[Parallel(n_jobs=7)]: Done 100 out of 100 | elapsed:    0.1s finished\n",
      "[Parallel(n_jobs=7)]: Using backend ThreadingBackend with 7 concurrent workers.\n",
      "[Parallel(n_jobs=7)]: Done  36 tasks      | elapsed:    0.0s\n",
      "[Parallel(n_jobs=7)]: Done 100 out of 100 | elapsed:    0.1s finished\n",
      "[Parallel(n_jobs=7)]: Using backend ThreadingBackend with 7 concurrent workers.\n",
      "[Parallel(n_jobs=7)]: Done  36 tasks      | elapsed:    0.0s\n",
      "[Parallel(n_jobs=7)]: Done 100 out of 100 | elapsed:    0.1s finished\n"
     ]
    },
    {
     "name": "stdout",
     "output_type": "stream",
     "text": [
      "MEAN AUC: 0.9074290279893017\n",
      "Iteration 1, loss = 0.18575724\n",
      "Iteration 2, loss = 0.16109254\n",
      "Iteration 3, loss = 0.15761680\n",
      "Iteration 4, loss = 0.15421153\n",
      "Iteration 5, loss = 0.15053281\n",
      "Iteration 6, loss = 0.14876830\n",
      "Iteration 7, loss = 0.14529643\n",
      "Iteration 8, loss = 0.14321018\n",
      "Iteration 9, loss = 0.14342068\n",
      "Iteration 10, loss = 0.14072729\n"
     ]
    },
    {
     "name": "stderr",
     "output_type": "stream",
     "text": [
      "/home/ubuntu/anaconda3/envs/unitary_detoxify/lib/python3.10/site-packages/sklearn/neural_network/_multilayer_perceptron.py:702: ConvergenceWarning: Stochastic Optimizer: Maximum iterations (10) reached and the optimization hasn't converged yet.\n",
      "  warnings.warn(\n"
     ]
    },
    {
     "name": "stdout",
     "output_type": "stream",
     "text": [
      "Iteration 1, loss = 0.03297218\n",
      "Iteration 2, loss = 0.02017528\n",
      "Iteration 3, loss = 0.01983781\n",
      "Iteration 4, loss = 0.01941928\n",
      "Iteration 5, loss = 0.01864224\n",
      "Iteration 6, loss = 0.01845024\n",
      "Iteration 7, loss = 0.01877085\n",
      "Iteration 8, loss = 0.01833980\n",
      "Iteration 9, loss = 0.01776490\n",
      "Iteration 10, loss = 0.01885892\n"
     ]
    },
    {
     "name": "stderr",
     "output_type": "stream",
     "text": [
      "/home/ubuntu/anaconda3/envs/unitary_detoxify/lib/python3.10/site-packages/sklearn/neural_network/_multilayer_perceptron.py:702: ConvergenceWarning: Stochastic Optimizer: Maximum iterations (10) reached and the optimization hasn't converged yet.\n",
      "  warnings.warn(\n"
     ]
    },
    {
     "name": "stdout",
     "output_type": "stream",
     "text": [
      "Iteration 1, loss = 0.12835079\n",
      "Iteration 2, loss = 0.10750187\n",
      "Iteration 3, loss = 0.10515020\n",
      "Iteration 4, loss = 0.10151810\n",
      "Iteration 5, loss = 0.09957776\n",
      "Iteration 6, loss = 0.09929834\n",
      "Iteration 7, loss = 0.09650205\n",
      "Iteration 8, loss = 0.09428344\n",
      "Iteration 9, loss = 0.09354739\n",
      "Iteration 10, loss = 0.08983738\n"
     ]
    },
    {
     "name": "stderr",
     "output_type": "stream",
     "text": [
      "/home/ubuntu/anaconda3/envs/unitary_detoxify/lib/python3.10/site-packages/sklearn/neural_network/_multilayer_perceptron.py:702: ConvergenceWarning: Stochastic Optimizer: Maximum iterations (10) reached and the optimization hasn't converged yet.\n",
      "  warnings.warn(\n"
     ]
    },
    {
     "name": "stdout",
     "output_type": "stream",
     "text": [
      "Iteration 1, loss = 0.02660083\n",
      "Iteration 2, loss = 0.01279813\n",
      "Iteration 3, loss = 0.01158710\n",
      "Iteration 4, loss = 0.01175843\n",
      "Iteration 5, loss = 0.01119007\n",
      "Iteration 6, loss = 0.01079137\n",
      "Iteration 7, loss = 0.01118282\n",
      "Iteration 8, loss = 0.01051206\n",
      "Iteration 9, loss = 0.00988151\n",
      "Iteration 10, loss = 0.00904838\n"
     ]
    },
    {
     "name": "stderr",
     "output_type": "stream",
     "text": [
      "/home/ubuntu/anaconda3/envs/unitary_detoxify/lib/python3.10/site-packages/sklearn/neural_network/_multilayer_perceptron.py:702: ConvergenceWarning: Stochastic Optimizer: Maximum iterations (10) reached and the optimization hasn't converged yet.\n",
      "  warnings.warn(\n"
     ]
    },
    {
     "name": "stdout",
     "output_type": "stream",
     "text": [
      "Iteration 1, loss = 0.12975775\n",
      "Iteration 2, loss = 0.10853962\n",
      "Iteration 3, loss = 0.10322639\n",
      "Iteration 4, loss = 0.10114804\n",
      "Iteration 5, loss = 0.09893477\n",
      "Iteration 6, loss = 0.09782942\n",
      "Iteration 7, loss = 0.09445798\n",
      "Iteration 8, loss = 0.09353488\n",
      "Iteration 9, loss = 0.09243904\n",
      "Iteration 10, loss = 0.09148909\n"
     ]
    },
    {
     "name": "stderr",
     "output_type": "stream",
     "text": [
      "/home/ubuntu/anaconda3/envs/unitary_detoxify/lib/python3.10/site-packages/sklearn/neural_network/_multilayer_perceptron.py:702: ConvergenceWarning: Stochastic Optimizer: Maximum iterations (10) reached and the optimization hasn't converged yet.\n",
      "  warnings.warn(\n"
     ]
    },
    {
     "name": "stdout",
     "output_type": "stream",
     "text": [
      "Iteration 1, loss = 0.05530907\n",
      "Iteration 2, loss = 0.03560440\n",
      "Iteration 3, loss = 0.03202646\n",
      "Iteration 4, loss = 0.03157063\n",
      "Iteration 5, loss = 0.03209549\n",
      "Iteration 6, loss = 0.03118966\n",
      "Iteration 7, loss = 0.02991697\n",
      "Iteration 8, loss = 0.02813617\n",
      "Iteration 9, loss = 0.02744080\n",
      "Iteration 10, loss = 0.02712898\n"
     ]
    },
    {
     "name": "stderr",
     "output_type": "stream",
     "text": [
      "/home/ubuntu/anaconda3/envs/unitary_detoxify/lib/python3.10/site-packages/sklearn/neural_network/_multilayer_perceptron.py:702: ConvergenceWarning: Stochastic Optimizer: Maximum iterations (10) reached and the optimization hasn't converged yet.\n",
      "  warnings.warn(\n"
     ]
    },
    {
     "name": "stdout",
     "output_type": "stream",
     "text": [
      "MEAN AUC: 0.9581781268228055\n"
     ]
    }
   ],
   "source": [
    "count = 2 # number of runs to execute\n",
    "wandb.agent(sweep_id, function=train, count=count)"
   ]
  },
  {
   "cell_type": "code",
   "execution_count": 31,
   "metadata": {},
   "outputs": [
    {
     "data": {
      "text/plain": [
       "0.9682706399756739"
      ]
     },
     "execution_count": 31,
     "metadata": {},
     "output_type": "execute_result"
    }
   ],
   "source": [
    "y_probs = predict_prob(X_test)\n",
    "# y_pred = mo_clf.predict(X_test)\n",
    "# score = mo_clf.score(X_test, y_test)\n",
    "\n",
    "evaluate(y_probs, y_test)['mean_auc']"
   ]
  }
 ],
 "metadata": {
  "kernelspec": {
   "display_name": "Python 3.10.5 ('unitary_detoxify')",
   "language": "python",
   "name": "python3"
  },
  "language_info": {
   "codemirror_mode": {
    "name": "ipython",
    "version": 3
   },
   "file_extension": ".py",
   "mimetype": "text/x-python",
   "name": "python",
   "nbconvert_exporter": "python",
   "pygments_lexer": "ipython3",
   "version": "3.10.5"
  },
  "orig_nbformat": 4,
  "vscode": {
   "interpreter": {
    "hash": "d715a8e0c373335788d71af889f0d8a209e19c45567465c102df97a24f52ada6"
   }
  }
 },
 "nbformat": 4,
 "nbformat_minor": 2
}
