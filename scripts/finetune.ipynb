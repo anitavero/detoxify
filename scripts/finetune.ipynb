{
 "cells": [
  {
   "cell_type": "code",
   "execution_count": 50,
   "metadata": {},
   "outputs": [],
   "source": [
    "import torch\n",
    "import pandas as pd\n",
    "import numpy as np\n",
    "from sklearn.neural_network import MLPClassifier\n",
    "from sklearn.datasets import make_classification\n",
    "from sklearn.model_selection import train_test_split\n",
    "from utils import load_embeddings"
   ]
  },
  {
   "cell_type": "code",
   "execution_count": null,
   "metadata": {},
   "outputs": [],
   "source": [
    "ids, embeddings, metadata = load_embeddings('/home/ubuntu/dev/detoxify/jigsaw-toxic-comment-classification-challenge/data/embeddings_bart_test.pkl')"
   ]
  },
  {
   "cell_type": "code",
   "execution_count": 34,
   "metadata": {},
   "outputs": [
    {
     "data": {
      "text/plain": [
       "array([[-1, -1, -1, -1, -1, -1],\n",
       "       [-1, -1, -1, -1, -1, -1],\n",
       "       [-1, -1, -1, -1, -1, -1],\n",
       "       ...,\n",
       "       [-1, -1, -1, -1, -1, -1],\n",
       "       [-1, -1, -1, -1, -1, -1],\n",
       "       [-1, -1, -1, -1, -1, -1]])"
      ]
     },
     "execution_count": 34,
     "metadata": {},
     "output_type": "execute_result"
    }
   ],
   "source": [
    "labels = pd.read_csv('/home/ubuntu/dev/detoxify/jigsaw-toxic-comment-classification-challenge/data/test_labels.csv', dtype={\"id\": \"string\"})\n",
    "classes = list(labels.columns)\n",
    "classes.remove(\"id\")\n",
    "y = labels[classes].to_numpy()\n",
    "y"
   ]
  },
  {
   "cell_type": "code",
   "execution_count": 69,
   "metadata": {},
   "outputs": [],
   "source": [
    "mask = (y != -1).any(axis=1)\n",
    "y_m = y[mask, :]\n",
    "embeddings_m = embeddings[mask, :]\n",
    "y_m.shape, embeddings_m.shape\n",
    "\n",
    "X_train, X_test, y_train, y_test = train_test_split(embeddings_m, y_m, random_state=1)"
   ]
  },
  {
   "cell_type": "code",
   "execution_count": 70,
   "metadata": {},
   "outputs": [
    {
     "name": "stdout",
     "output_type": "stream",
     "text": [
      "Iteration 1, loss = 0.52424865\n",
      "Iteration 2, loss = 0.39058075\n",
      "Iteration 3, loss = 0.36288376\n",
      "Iteration 4, loss = 0.34642276\n",
      "Iteration 5, loss = 0.33375567\n",
      "Iteration 6, loss = 0.32294132\n",
      "Iteration 7, loss = 0.31072760\n",
      "Iteration 8, loss = 0.30078304\n",
      "Iteration 9, loss = 0.28499197\n",
      "Iteration 10, loss = 0.27337345\n",
      "Iteration 11, loss = 0.26328727\n",
      "Iteration 12, loss = 0.24808044\n",
      "Iteration 13, loss = 0.23355003\n",
      "Iteration 14, loss = 0.22086999\n",
      "Iteration 15, loss = 0.20593482\n",
      "Iteration 16, loss = 0.19056859\n",
      "Iteration 17, loss = 0.17915510\n",
      "Iteration 18, loss = 0.16805109\n",
      "Iteration 19, loss = 0.15676465\n",
      "Iteration 20, loss = 0.14582459\n",
      "Iteration 21, loss = 0.13319141\n",
      "Iteration 22, loss = 0.12117297\n",
      "Iteration 23, loss = 0.11091013\n",
      "Iteration 24, loss = 0.10266433\n",
      "Iteration 25, loss = 0.09486091\n",
      "Iteration 26, loss = 0.08722656\n",
      "Iteration 27, loss = 0.08112904\n",
      "Iteration 28, loss = 0.07242242\n",
      "Iteration 29, loss = 0.06742240\n",
      "Iteration 30, loss = 0.06382512\n",
      "Iteration 31, loss = 0.05836049\n",
      "Iteration 32, loss = 0.05408220\n",
      "Iteration 33, loss = 0.04886525\n",
      "Iteration 34, loss = 0.04227670\n",
      "Iteration 35, loss = 0.03825561\n",
      "Iteration 36, loss = 0.04030331\n",
      "Iteration 37, loss = 0.03684089\n",
      "Iteration 38, loss = 0.03308927\n",
      "Iteration 39, loss = 0.03008444\n",
      "Iteration 40, loss = 0.02856047\n",
      "Iteration 41, loss = 0.03332255\n",
      "Iteration 42, loss = 0.03402896\n",
      "Iteration 43, loss = 0.01974327\n",
      "Iteration 44, loss = 0.01585857\n",
      "Iteration 45, loss = 0.01316824\n",
      "Iteration 46, loss = 0.01289492\n",
      "Iteration 47, loss = 0.01135082\n",
      "Iteration 48, loss = 0.01520698\n",
      "Iteration 49, loss = 0.07294283\n",
      "Iteration 50, loss = 0.02964950\n",
      "Iteration 51, loss = 0.01334370\n",
      "Iteration 52, loss = 0.00833722\n",
      "Iteration 53, loss = 0.00661262\n",
      "Iteration 54, loss = 0.00599930\n",
      "Iteration 55, loss = 0.00551147\n",
      "Iteration 56, loss = 0.00538876\n",
      "Iteration 57, loss = 0.00540148\n",
      "Iteration 58, loss = 0.00551803\n",
      "Iteration 59, loss = 0.02266471\n",
      "Iteration 60, loss = 0.07426930\n",
      "Iteration 61, loss = 0.01992334\n",
      "Iteration 62, loss = 0.00998320\n",
      "Iteration 63, loss = 0.00746944\n",
      "Iteration 64, loss = 0.00539592\n",
      "Iteration 65, loss = 0.00412858\n",
      "Iteration 66, loss = 0.00336581\n",
      "Iteration 67, loss = 0.00322287\n",
      "Iteration 68, loss = 0.00302446\n",
      "Iteration 69, loss = 0.00297313\n",
      "Iteration 70, loss = 0.00666540\n",
      "Iteration 71, loss = 0.05677067\n",
      "Iteration 72, loss = 0.01759692\n",
      "Iteration 73, loss = 0.00761909\n",
      "Iteration 74, loss = 0.00413914\n",
      "Iteration 75, loss = 0.00282196\n",
      "Iteration 76, loss = 0.00248969\n",
      "Iteration 77, loss = 0.00237571\n",
      "Iteration 78, loss = 0.00221869\n",
      "Iteration 79, loss = 0.00230402\n",
      "Iteration 80, loss = 0.00238859\n",
      "Iteration 81, loss = 0.00204535\n",
      "Iteration 82, loss = 0.00214432\n",
      "Iteration 83, loss = 0.05970831\n",
      "Iteration 84, loss = 0.05621837\n",
      "Iteration 85, loss = 0.01107735\n",
      "Iteration 86, loss = 0.00554407\n",
      "Iteration 87, loss = 0.00384348\n",
      "Iteration 88, loss = 0.00245382\n",
      "Iteration 89, loss = 0.00214502\n",
      "Iteration 90, loss = 0.00213395\n",
      "Iteration 91, loss = 0.00198394\n",
      "Iteration 92, loss = 0.00201047\n",
      "Training loss did not improve more than tol=0.000100 for 10 consecutive epochs. Stopping.\n"
     ]
    }
   ],
   "source": [
    "clf = MLPClassifier(random_state=1, max_iter=300, verbose=True).fit(X_train, y_train)"
   ]
  },
  {
   "cell_type": "code",
   "execution_count": 71,
   "metadata": {},
   "outputs": [
    {
     "data": {
      "text/plain": [
       "(array([[1.6445278e-12, 1.7939822e-31, 4.0213230e-19, 3.8896814e-20,\n",
       "         9.6413227e-18, 9.3125893e-26]], dtype=float32),\n",
       " array([[0, 0, 0, 0, 0, 0],\n",
       "        [0, 0, 0, 0, 0, 0],\n",
       "        [1, 0, 0, 0, 0, 0],\n",
       "        [0, 0, 0, 0, 0, 0],\n",
       "        [0, 0, 0, 0, 0, 0]]),\n",
       " 0.8925914348233823)"
      ]
     },
     "execution_count": 71,
     "metadata": {},
     "output_type": "execute_result"
    }
   ],
   "source": [
    "clf.predict_proba(X_test[:1]), clf.predict(X_test[:5, :]), clf.score(X_test, y_test)"
   ]
  },
  {
   "cell_type": "code",
   "execution_count": 72,
   "metadata": {},
   "outputs": [],
   "source": [
    "from model_eval.eval_predictions import evaluate"
   ]
  },
  {
   "cell_type": "code",
   "execution_count": 73,
   "metadata": {},
   "outputs": [],
   "source": [
    "scores = clf.predict_proba(embeddings_m)"
   ]
  },
  {
   "cell_type": "code",
   "execution_count": 74,
   "metadata": {},
   "outputs": [
    {
     "data": {
      "text/plain": [
       "{'auc_scores': [0.9878005010070975,\n",
       "  0.9969886362687173,\n",
       "  0.9889785343894436,\n",
       "  0.992401245737871,\n",
       "  0.989412258480658,\n",
       "  0.9923052284682082],\n",
       " 'mean_auc': 0.9913144007253326}"
      ]
     },
     "execution_count": 74,
     "metadata": {},
     "output_type": "execute_result"
    }
   ],
   "source": [
    "evaluate(scores, y_m)"
   ]
  },
  {
   "cell_type": "code",
   "execution_count": null,
   "metadata": {},
   "outputs": [],
   "source": []
  }
 ],
 "metadata": {
  "kernelspec": {
   "display_name": "Python 3.10.5 ('unitary_detoxify')",
   "language": "python",
   "name": "python3"
  },
  "language_info": {
   "codemirror_mode": {
    "name": "ipython",
    "version": 3
   },
   "file_extension": ".py",
   "mimetype": "text/x-python",
   "name": "python",
   "nbconvert_exporter": "python",
   "pygments_lexer": "ipython3",
   "version": "3.10.5"
  },
  "orig_nbformat": 4,
  "vscode": {
   "interpreter": {
    "hash": "d715a8e0c373335788d71af889f0d8a209e19c45567465c102df97a24f52ada6"
   }
  }
 },
 "nbformat": 4,
 "nbformat_minor": 2
}
