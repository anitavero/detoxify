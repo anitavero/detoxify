{
 "cells": [
  {
   "cell_type": "code",
   "execution_count": 19,
   "metadata": {},
   "outputs": [],
   "source": [
    "import pandas as pd\n",
    "from glob import glob\n",
    "import json\n",
    "import os"
   ]
  },
  {
   "cell_type": "markdown",
   "metadata": {},
   "source": [
    "### Toxic comment classification Jigsaw Challenge"
   ]
  },
  {
   "cell_type": "markdown",
   "metadata": {},
   "source": [
    "##### Finetuned Embeddings"
   ]
  },
  {
   "cell_type": "code",
   "execution_count": 26,
   "metadata": {},
   "outputs": [],
   "source": [
    "files = glob('/home/ubuntu/dev/detoxify/jigsaw-toxic-comment-classification-challenge/results/*finetune*')\n",
    "files\n",
    "mean_aucs = {}\n",
    "for fl in files:\n",
    "    with open(fl, 'r') as f:\n",
    "        r = json.load(f)\n",
    "    mean_aucs[os.path.splitext(os.path.basename(fl))[0].split('finetune_')[1]] = r[\"mean_auc\"]"
   ]
  },
  {
   "cell_type": "code",
   "execution_count": 38,
   "metadata": {},
   "outputs": [
    {
     "data": {
      "text/html": [
       "<div>\n",
       "<style scoped>\n",
       "    .dataframe tbody tr th:only-of-type {\n",
       "        vertical-align: middle;\n",
       "    }\n",
       "\n",
       "    .dataframe tbody tr th {\n",
       "        vertical-align: top;\n",
       "    }\n",
       "\n",
       "    .dataframe thead th {\n",
       "        text-align: right;\n",
       "    }\n",
       "</style>\n",
       "<table border=\"1\" class=\"dataframe\">\n",
       "  <thead>\n",
       "    <tr style=\"text-align: right;\">\n",
       "      <th></th>\n",
       "      <th>Model</th>\n",
       "      <th>Mean AUC</th>\n",
       "    </tr>\n",
       "  </thead>\n",
       "  <tbody>\n",
       "    <tr>\n",
       "      <th>1</th>\n",
       "      <td>t5-xl</td>\n",
       "      <td>0.952469</td>\n",
       "    </tr>\n",
       "    <tr>\n",
       "      <th>4</th>\n",
       "      <td>roberta</td>\n",
       "      <td>0.949366</td>\n",
       "    </tr>\n",
       "    <tr>\n",
       "      <th>8</th>\n",
       "      <td>bart</td>\n",
       "      <td>0.948571</td>\n",
       "    </tr>\n",
       "    <tr>\n",
       "      <th>2</th>\n",
       "      <td>t5-large</td>\n",
       "      <td>0.924748</td>\n",
       "    </tr>\n",
       "    <tr>\n",
       "      <th>9</th>\n",
       "      <td>t5-xl_forest</td>\n",
       "      <td>0.922013</td>\n",
       "    </tr>\n",
       "    <tr>\n",
       "      <th>11</th>\n",
       "      <td>t5-base</td>\n",
       "      <td>0.917762</td>\n",
       "    </tr>\n",
       "    <tr>\n",
       "      <th>0</th>\n",
       "      <td>t5-base_forest</td>\n",
       "      <td>0.913529</td>\n",
       "    </tr>\n",
       "    <tr>\n",
       "      <th>3</th>\n",
       "      <td>bart_forest</td>\n",
       "      <td>0.913037</td>\n",
       "    </tr>\n",
       "    <tr>\n",
       "      <th>10</th>\n",
       "      <td>t5-large_forest</td>\n",
       "      <td>0.911347</td>\n",
       "    </tr>\n",
       "    <tr>\n",
       "      <th>5</th>\n",
       "      <td>roberta_forest</td>\n",
       "      <td>0.898582</td>\n",
       "    </tr>\n",
       "    <tr>\n",
       "      <th>7</th>\n",
       "      <td>random_1024</td>\n",
       "      <td>0.499198</td>\n",
       "    </tr>\n",
       "    <tr>\n",
       "      <th>6</th>\n",
       "      <td>random_d_1024_seed_2022</td>\n",
       "      <td>0.492727</td>\n",
       "    </tr>\n",
       "  </tbody>\n",
       "</table>\n",
       "</div>"
      ],
      "text/plain": [
       "                      Model  Mean AUC\n",
       "1                     t5-xl  0.952469\n",
       "4                   roberta  0.949366\n",
       "8                      bart  0.948571\n",
       "2                  t5-large  0.924748\n",
       "9              t5-xl_forest  0.922013\n",
       "11                  t5-base  0.917762\n",
       "0            t5-base_forest  0.913529\n",
       "3               bart_forest  0.913037\n",
       "10          t5-large_forest  0.911347\n",
       "5            roberta_forest  0.898582\n",
       "7               random_1024  0.499198\n",
       "6   random_d_1024_seed_2022  0.492727"
      ]
     },
     "execution_count": 38,
     "metadata": {},
     "output_type": "execute_result"
    }
   ],
   "source": [
    "pd.DataFrame({\"Model\": mean_aucs.keys(), \"Mean AUC\": mean_aucs.values()}).sort_values(\"Mean AUC\", ascending=False)"
   ]
  }
 ],
 "metadata": {
  "kernelspec": {
   "display_name": "Python 3.10.5 ('unitary_detoxify')",
   "language": "python",
   "name": "python3"
  },
  "language_info": {
   "codemirror_mode": {
    "name": "ipython",
    "version": 3
   },
   "file_extension": ".py",
   "mimetype": "text/x-python",
   "name": "python",
   "nbconvert_exporter": "python",
   "pygments_lexer": "ipython3",
   "version": "3.10.5"
  },
  "orig_nbformat": 4,
  "vscode": {
   "interpreter": {
    "hash": "d715a8e0c373335788d71af889f0d8a209e19c45567465c102df97a24f52ada6"
   }
  }
 },
 "nbformat": 4,
 "nbformat_minor": 2
}
